{
 "cells": [
  {
   "cell_type": "markdown",
   "metadata": {},
   "source": [
    "## Crear archivo"
   ]
  },
  {
   "cell_type": "code",
   "execution_count": 1,
   "metadata": {},
   "outputs": [
    {
     "name": "stdout",
     "output_type": "stream",
     "text": [
      "c:\\Users\\USER\\Desktop\\proyectos\\2025\\enero\\cbook\\test\\create\n",
      "Base de dato mis_datos.cbook creada correctamente\n"
     ]
    }
   ],
   "source": [
    "import sqlite3\n",
    "import os\n",
    "\n",
    "print(os.getcwd())\n",
    "\n",
    "# crear archivo con extensión .cbook\n",
    "conn = sqlite3.connect(\"mis_datos.cbook\")\n",
    "cursor = conn.cursor()\n",
    "\n",
    "with open(\"codigo.sql\", \"r\", encoding=\"utf-8\") as archivo_sql:\n",
    "    script = archivo_sql.read()\n",
    "\n",
    "cursor.execute(script)\n",
    "\n",
    "conn.commit()\n",
    "conn.close()\n",
    "print(\"Base de dato mis_datos.cbook creada correctamente\")"
   ]
  },
  {
   "cell_type": "markdown",
   "metadata": {},
   "source": [
    "## Agregar archivos"
   ]
  },
  {
   "cell_type": "code",
   "execution_count": 3,
   "metadata": {},
   "outputs": [
    {
     "name": "stdout",
     "output_type": "stream",
     "text": [
      "Archivo 'imagen.jpg' guardado en 'mis_datos.cbook'\n",
      "Archivo 'nota.txt' guardado en 'mis_datos.cbook'\n"
     ]
    }
   ],
   "source": [
    "def agregar_archivo(nombre_db, nombre_archivo, ruta_archivo):\n",
    "    conn = sqlite3.connect(nombre_db)\n",
    "    cursor = conn.cursor()\n",
    "\n",
    "    with open(ruta_archivo, \"rb\") as f:\n",
    "        contenido = f.read() # leer los archivos en binario\n",
    "    cursor.execute(\"INSERT INTO archivo (nombre, contenido) VALUES (?,?)\", (nombre_archivo, contenido))\n",
    "    conn.commit()\n",
    "    conn.close()\n",
    "    print(f\"Archivo '{nombre_archivo}' guardado en '{nombre_db}'\")\n",
    "\n",
    "# ejemplo\n",
    "agregar_archivo(\"mis_datos.cbook\", \"imagen.jpg\", \"img/ejemplo.jpg\")\n",
    "agregar_archivo(\"mis_datos.cbook\", \"nota.txt\", \"nota.txt\")\n"
   ]
  },
  {
   "cell_type": "markdown",
   "metadata": {},
   "source": [
    "## Recuperar archivo "
   ]
  },
  {
   "cell_type": "code",
   "execution_count": 4,
   "metadata": {},
   "outputs": [
    {
     "name": "stdout",
     "output_type": "stream",
     "text": [
      "Archivo 'imagen.jpg' recuperado en 'temp/imagen_extraida.jpg'\n",
      "Archivo 'nota.txt' recuperado en 'temp/nota_extraida.txt'\n"
     ]
    }
   ],
   "source": [
    "def recuperar_archivo(nombre_db, nombre_archivo, ruta_salida):\n",
    "    conn = sqlite3.connect(nombre_db)\n",
    "    cursor = conn.cursor()\n",
    "    cursor.execute(\"SELECT contenido FROM archivo WHERE nombre = ?\", (nombre_archivo,))\n",
    "    archivo = cursor.fetchone()\n",
    "\n",
    "    if archivo:\n",
    "        with open(ruta_salida, \"wb\") as f:\n",
    "            f.write(archivo[0]) # guardar el contenido en un archivo real \n",
    "        print(f\"Archivo '{nombre_archivo}' recuperado en '{ruta_salida}'\")\n",
    "    else:\n",
    "        print(f\"El archivo '{nombre_archivo}' no existe en {nombre_db}\")\n",
    "    conn.close()\n",
    "\n",
    "# ejemplo de recuperación\n",
    "\n",
    "recuperar_archivo(\"mis_datos.cbook\", \"imagen.jpg\", \"temp/imagen_extraida.jpg\")\n",
    "recuperar_archivo(\"mis_datos.cbook\", \"nota.txt\", \"temp/nota_extraida.txt\")"
   ]
  }
 ],
 "metadata": {
  "kernelspec": {
   "display_name": "Python 3",
   "language": "python",
   "name": "python3"
  },
  "language_info": {
   "codemirror_mode": {
    "name": "ipython",
    "version": 3
   },
   "file_extension": ".py",
   "mimetype": "text/x-python",
   "name": "python",
   "nbconvert_exporter": "python",
   "pygments_lexer": "ipython3",
   "version": "3.10.7"
  }
 },
 "nbformat": 4,
 "nbformat_minor": 2
}
