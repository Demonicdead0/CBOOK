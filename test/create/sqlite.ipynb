{
 "cells": [
  {
   "cell_type": "markdown",
   "metadata": {},
   "source": [
    "## Crear archivo"
   ]
  },
  {
   "cell_type": "code",
   "execution_count": 4,
   "metadata": {},
   "outputs": [
    {
     "name": "stdout",
     "output_type": "stream",
     "text": [
      "c:\\Users\\USER\\Desktop\\proyectos\\2025\\enero\\cbook\\test\\create\n",
      "Base de dato mis_datos.cbook creada correctamente\n"
     ]
    }
   ],
   "source": [
    "import sqlite3\n",
    "import os\n",
    "\n",
    "print(os.getcwd())\n",
    "\n",
    "# crear archivo con extensión .cbook\n",
    "conn = sqlite3.connect(\"mis_datos.cbook\")\n",
    "cursor = conn.cursor()\n",
    "\n",
    "with open(\"codigo.sql\", \"r\", encoding=\"utf-8\") as archivo_sql:\n",
    "    script = archivo_sql.read()\n",
    "\n",
    "cursor.execute(script)\n",
    "\n",
    "conn.commit()\n",
    "conn.close()\n",
    "print(\"Base de dato mis_datos.cbook creada correctamente\")"
   ]
  },
  {
   "cell_type": "markdown",
   "metadata": {},
   "source": [
    "## Agregar archivos"
   ]
  },
  {
   "cell_type": "code",
   "execution_count": 5,
   "metadata": {},
   "outputs": [
    {
     "ename": "OperationalError",
     "evalue": "database is locked",
     "output_type": "error",
     "traceback": [
      "\u001b[1;31m---------------------------------------------------------------------------\u001b[0m",
      "\u001b[1;31mOperationalError\u001b[0m                          Traceback (most recent call last)",
      "Cell \u001b[1;32mIn[5], line 13\u001b[0m\n\u001b[0;32m     10\u001b[0m     \u001b[38;5;28mprint\u001b[39m(\u001b[38;5;124mf\u001b[39m\u001b[38;5;124m\"\u001b[39m\u001b[38;5;124mArchivo \u001b[39m\u001b[38;5;124m'\u001b[39m\u001b[38;5;132;01m{\u001b[39;00mnombre_archivo\u001b[38;5;132;01m}\u001b[39;00m\u001b[38;5;124m'\u001b[39m\u001b[38;5;124m guardado en \u001b[39m\u001b[38;5;124m'\u001b[39m\u001b[38;5;132;01m{\u001b[39;00mnombre_db\u001b[38;5;132;01m}\u001b[39;00m\u001b[38;5;124m'\u001b[39m\u001b[38;5;124m\"\u001b[39m)\n\u001b[0;32m     12\u001b[0m \u001b[38;5;66;03m# ejemplo\u001b[39;00m\n\u001b[1;32m---> 13\u001b[0m \u001b[43magregar_archivo\u001b[49m\u001b[43m(\u001b[49m\u001b[38;5;124;43m\"\u001b[39;49m\u001b[38;5;124;43mmis_datos.cbook\u001b[39;49m\u001b[38;5;124;43m\"\u001b[39;49m\u001b[43m,\u001b[49m\u001b[43m \u001b[49m\u001b[38;5;124;43m\"\u001b[39;49m\u001b[38;5;124;43mimagen.jpg\u001b[39;49m\u001b[38;5;124;43m\"\u001b[39;49m\u001b[43m,\u001b[49m\u001b[43m \u001b[49m\u001b[38;5;124;43m\"\u001b[39;49m\u001b[38;5;124;43mimg/ejemplo.jpg\u001b[39;49m\u001b[38;5;124;43m\"\u001b[39;49m\u001b[43m)\u001b[49m\n\u001b[0;32m     14\u001b[0m agregar_archivo(\u001b[38;5;124m\"\u001b[39m\u001b[38;5;124mmis_datos.cbook\u001b[39m\u001b[38;5;124m\"\u001b[39m, \u001b[38;5;124m\"\u001b[39m\u001b[38;5;124mnota.txt\u001b[39m\u001b[38;5;124m\"\u001b[39m, \u001b[38;5;124m\"\u001b[39m\u001b[38;5;124mnota.txt\u001b[39m\u001b[38;5;124m\"\u001b[39m)\n",
      "Cell \u001b[1;32mIn[5], line 7\u001b[0m, in \u001b[0;36magregar_archivo\u001b[1;34m(nombre_db, nombre_archivo, ruta_archivo)\u001b[0m\n\u001b[0;32m      5\u001b[0m \u001b[38;5;28;01mwith\u001b[39;00m \u001b[38;5;28mopen\u001b[39m(ruta_archivo, \u001b[38;5;124m\"\u001b[39m\u001b[38;5;124mrb\u001b[39m\u001b[38;5;124m\"\u001b[39m) \u001b[38;5;28;01mas\u001b[39;00m f:\n\u001b[0;32m      6\u001b[0m     contenido \u001b[38;5;241m=\u001b[39m f\u001b[38;5;241m.\u001b[39mread() \u001b[38;5;66;03m# leer los archivos en binario\u001b[39;00m\n\u001b[1;32m----> 7\u001b[0m \u001b[43mcursor\u001b[49m\u001b[38;5;241;43m.\u001b[39;49m\u001b[43mexecute\u001b[49m\u001b[43m(\u001b[49m\u001b[38;5;124;43m\"\u001b[39;49m\u001b[38;5;124;43mINSERT INTO archivo (nombre, contenido) VALUES (?,?)\u001b[39;49m\u001b[38;5;124;43m\"\u001b[39;49m\u001b[43m,\u001b[49m\u001b[43m \u001b[49m\u001b[43m(\u001b[49m\u001b[43mnombre_archivo\u001b[49m\u001b[43m,\u001b[49m\u001b[43m \u001b[49m\u001b[43mcontenido\u001b[49m\u001b[43m)\u001b[49m\u001b[43m)\u001b[49m\n\u001b[0;32m      8\u001b[0m conn\u001b[38;5;241m.\u001b[39mcommit()\n\u001b[0;32m      9\u001b[0m conn\u001b[38;5;241m.\u001b[39mclose()\n",
      "\u001b[1;31mOperationalError\u001b[0m: database is locked"
     ]
    }
   ],
   "source": [
    "def agregar_archivo(nombre_db, nombre_archivo, ruta_archivo):\n",
    "    conn = sqlite3.connect(nombre_db)\n",
    "    cursor = conn.cursor()\n",
    "\n",
    "    with open(ruta_archivo, \"rb\") as f:\n",
    "        contenido = f.read() # leer los archivos en binario\n",
    "    cursor.execute(\"INSERT INTO archivo (nombre, contenido) VALUES (?,?)\", (nombre_archivo, contenido))\n",
    "    conn.commit()\n",
    "    conn.close()\n",
    "    print(f\"Archivo '{nombre_archivo}' guardado en '{nombre_db}'\")\n",
    "\n",
    "# ejemplo\n",
    "agregar_archivo(\"mis_datos.cbook\", \"imagen.jpg\", \"img/ejemplo.jpg\")\n",
    "agregar_archivo(\"mis_datos.cbook\", \"nota.txt\", \"nota.txt\")\n"
   ]
  },
  {
   "cell_type": "markdown",
   "metadata": {},
   "source": [
    "## Recuperar archivo "
   ]
  },
  {
   "cell_type": "code",
   "execution_count": 11,
   "metadata": {},
   "outputs": [
    {
     "name": "stdout",
     "output_type": "stream",
     "text": [
      "Archivo 'imagen.jpg' recuperado en 'temp/imagen_extraida.jpg'\n",
      "Archivo 'nota.txt' recuperado en 'temp/nota_extraida.txt'\n"
     ]
    }
   ],
   "source": [
    "def recuperar_archivo(nombre_db, nombre_archivo, ruta_salida):\n",
    "    conn = sqlite3.connect(nombre_db)\n",
    "    cursor = conn.cursor()\n",
    "    cursor.execute(\"SELECT contenido FROM archivo WHERE nombre = ?\", (nombre_archivo,))\n",
    "    archivo = cursor.fetchone()\n",
    "\n",
    "    if archivo:\n",
    "        with open(ruta_salida, \"wb\") as f:\n",
    "            f.write(archivo[0]) # guardar el contenido en un archivo real \n",
    "        print(f\"Archivo '{nombre_archivo}' recuperado en '{ruta_salida}'\")\n",
    "    else:\n",
    "        print(f\"El archivo '{nombre_archivo}' no existe en {nombre_db}\")\n",
    "    conn.close()\n",
    "\n",
    "# ejemplo de recuperación\n",
    "\n",
    "recuperar_archivo(\"mis_datos.cbook\", \"imagen.jpg\", \"temp/imagen_extraida.jpg\")\n",
    "recuperar_archivo(\"mis_datos.cbook\", \"nota.txt\", \"temp/nota_extraida.txt\")"
   ]
  }
 ],
 "metadata": {
  "kernelspec": {
   "display_name": "Python 3",
   "language": "python",
   "name": "python3"
  },
  "language_info": {
   "codemirror_mode": {
    "name": "ipython",
    "version": 3
   },
   "file_extension": ".py",
   "mimetype": "text/x-python",
   "name": "python",
   "nbconvert_exporter": "python",
   "pygments_lexer": "ipython3",
   "version": "3.10.7"
  }
 },
 "nbformat": 4,
 "nbformat_minor": 2
}
